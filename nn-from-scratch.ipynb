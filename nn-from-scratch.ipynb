{
 "cells": [
  {
   "cell_type": "code",
   "execution_count": 85,
   "metadata": {},
   "outputs": [],
   "source": [
    "import numpy\n",
    "import scipy"
   ]
  },
  {
   "cell_type": "code",
   "execution_count": 86,
   "metadata": {},
   "outputs": [],
   "source": [
    "class NeuralNetwork:\n",
    "\n",
    "    # Initialise the neural network\n",
    "    def __init__(self, input_nodes, hidden_nodes, output_nodes, learning_rate):\n",
    "        self.input_nodes = input_nodes\n",
    "        self.hidden_nodes = hidden_nodes\n",
    "        self.output_nodes = output_nodes\n",
    "        self.learning_rate = learning_rate\n",
    "\n",
    "        # Init the weights - 0.5 that for minus values\n",
    "        self.weight_input_hidden = (numpy.random.rand(self.hidden_nodes, self.input_nodes) - 0.5)\n",
    "        self.weight_hidden_output = (numpy.random.rand(self.output_nodes, self.hidden_nodes) - 0.5)\n",
    "\n",
    "        # Activation function is sigmoid function\n",
    "        self.activation_function = lambda x: scipy.special.expit(x)\n",
    "\n",
    "    # Train the network\n",
    "    def train():\n",
    "        pass\n",
    "\n",
    "    # Query the neural network\n",
    "    def query(self, input_list):\n",
    "\n",
    "        # Convert input list to 2d array (column vector)\n",
    "        inputs = numpy.array(input_list, ndmin=2).T\n",
    "\n",
    "        # First layer\n",
    "        hidden_inputs = numpy.dot(self.weight_input_hidden, inputs)\n",
    "        hidden_outputs = self.activation_function(hidden_inputs)\n",
    "\n",
    "        # Second layer\n",
    "        final_inputs = numpy.dot(self.weight_hidden_output, hidden_outputs)\n",
    "        final_outputs = self.activation_function(final_inputs)\n",
    "\n",
    "        return final_outputs\n",
    "\n",
    "\n",
    "\n",
    "    def describe(self):\n",
    "        print(f'3 layer neural network with {self.input_nodes} input nodes / {self.hidden_nodes} hidden nodes / {self.output_nodes} output nodes and learning rate {self.learning_rate}')\n"
   ]
  },
  {
   "cell_type": "code",
   "execution_count": 87,
   "metadata": {},
   "outputs": [
    {
     "name": "stdout",
     "output_type": "stream",
     "text": [
      "3 layer neural network with 3 input nodes / 4 hidden nodes / 1 output nodes and learning rate 0.3\n",
      "[[ 0.03747072 -0.35113439  0.16526144]\n",
      " [ 0.24070521 -0.32807632 -0.4219592 ]\n",
      " [ 0.27612155  0.43760489  0.03932515]\n",
      " [ 0.23113425  0.33311705  0.2392056 ]] \n",
      " [[-1.15649842e-01 -2.74668012e-04  3.17076450e-01 -2.00613486e-01]]\n"
     ]
    }
   ],
   "source": [
    "n = NeuralNetwork(3,4,1,0.3)\n",
    "n.describe()"
   ]
  },
  {
   "cell_type": "code",
   "execution_count": 88,
   "metadata": {},
   "outputs": [
    {
     "data": {
      "text/plain": [
       "array([[0.50679766]])"
      ]
     },
     "execution_count": 88,
     "metadata": {},
     "output_type": "execute_result"
    }
   ],
   "source": [
    "n.query([1,2,3])"
   ]
  }
 ],
 "metadata": {
  "kernelspec": {
   "display_name": "Python 3.9.13 64-bit",
   "language": "python",
   "name": "python3"
  },
  "language_info": {
   "codemirror_mode": {
    "name": "ipython",
    "version": 3
   },
   "file_extension": ".py",
   "mimetype": "text/x-python",
   "name": "python",
   "nbconvert_exporter": "python",
   "pygments_lexer": "ipython3",
   "version": "3.9.13"
  },
  "orig_nbformat": 4,
  "vscode": {
   "interpreter": {
    "hash": "949777d72b0d2535278d3dc13498b2535136f6dfe0678499012e853ee9abcab1"
   }
  }
 },
 "nbformat": 4,
 "nbformat_minor": 2
}
