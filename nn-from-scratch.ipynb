{
 "cells": [
  {
   "cell_type": "code",
   "execution_count": 101,
   "metadata": {},
   "outputs": [],
   "source": [
    "import numpy\n",
    "import scipy"
   ]
  },
  {
   "cell_type": "code",
   "execution_count": 102,
   "metadata": {},
   "outputs": [],
   "source": [
    "class NeuralNetwork:\n",
    "\n",
    "    # Initialise the neural network\n",
    "    def __init__(self, input_nodes, hidden_nodes, output_nodes, learning_rate):\n",
    "        self.input_nodes = input_nodes\n",
    "        self.hidden_nodes = hidden_nodes\n",
    "        self.output_nodes = output_nodes\n",
    "        self.learning_rate = learning_rate\n",
    "\n",
    "        # Init the weights - 0.5 that for minus values\n",
    "        self.weight_input_hidden = (numpy.random.rand(self.hidden_nodes, self.input_nodes) - 0.5)\n",
    "        self.weight_hidden_output = (numpy.random.rand(self.output_nodes, self.hidden_nodes) - 0.5)\n",
    "\n",
    "        # Activation function is sigmoid function\n",
    "        self.activation_function = lambda x: scipy.special.expit(x)\n",
    "\n",
    "    # Train the network\n",
    "    def train(self, input_list, target_list):\n",
    "\n",
    "        # Convert parameter lists to 2d array\n",
    "        inputs = numpy.array(input_list, ndmin=2).T\n",
    "        targets = numpy.array(target_list, ndmin=2).T\n",
    "\n",
    "        # Forward propagation\n",
    "        # First layer\n",
    "        hidden_inputs = numpy.dot(self.weight_input_hidden, inputs)\n",
    "        hidden_outputs = self.activation_function(hidden_inputs)\n",
    "\n",
    "        # Second layer\n",
    "        final_inputs = numpy.dot(self.weight_hidden_output, hidden_outputs)\n",
    "        final_outputs = self.activation_function(final_inputs)\n",
    "\n",
    "        # Backpropagation\n",
    "        # Error is (target - actual)\n",
    "        output_errors = targets - final_outputs\n",
    "\n",
    "        # Hidden layer error is output_errors, split by weights, recombined at hidden nodes\n",
    "        hidden_errors = numpy.dot(self.weight_hidden_output.T, output_errors)\n",
    "\n",
    "        # Update weights\n",
    "        self.weight_hidden_output -= self.learning_rate * numpy.dot((output_errors * final_outputs * (1 - final_outputs)), hidden_outputs.T)\n",
    "\n",
    "        self.weight_input_hidden -= self.learning_rate * numpy.dot((hidden_errors * hidden_outputs * (1 - hidden_outputs)), inputs.T)\n",
    "\n",
    "        pass\n",
    "\n",
    "    # Query the neural network\n",
    "    def query(self, input_list):\n",
    "\n",
    "        # Convert input list to 2d array (column vector)\n",
    "        inputs = numpy.array(input_list, ndmin=2).T\n",
    "\n",
    "        # First layer\n",
    "        hidden_inputs = numpy.dot(self.weight_input_hidden, inputs)\n",
    "        hidden_outputs = self.activation_function(hidden_inputs)\n",
    "\n",
    "        # Second layer\n",
    "        final_inputs = numpy.dot(self.weight_hidden_output, hidden_outputs)\n",
    "        final_outputs = self.activation_function(final_inputs)\n",
    "\n",
    "        return final_outputs\n",
    "\n",
    "\n",
    "\n",
    "    def describe(self):\n",
    "        print(f'3 layer neural network with {self.input_nodes} input nodes / {self.hidden_nodes} hidden nodes / {self.output_nodes} output nodes and learning rate {self.learning_rate}')\n"
   ]
  },
  {
   "cell_type": "code",
   "execution_count": 103,
   "metadata": {},
   "outputs": [
    {
     "name": "stdout",
     "output_type": "stream",
     "text": [
      "3 layer neural network with 3 input nodes / 4 hidden nodes / 3 output nodes and learning rate 0.3\n"
     ]
    }
   ],
   "source": [
    "n = NeuralNetwork(3,4,3,0.3)\n",
    "n.describe()"
   ]
  },
  {
   "cell_type": "code",
   "execution_count": 104,
   "metadata": {},
   "outputs": [
    {
     "data": {
      "text/plain": [
       "array([[0.58861303],\n",
       "       [0.55747329],\n",
       "       [0.36496596]])"
      ]
     },
     "execution_count": 104,
     "metadata": {},
     "output_type": "execute_result"
    }
   ],
   "source": [
    "n.query([1,2,3])"
   ]
  }
 ],
 "metadata": {
  "kernelspec": {
   "display_name": "Python 3.9.13 64-bit",
   "language": "python",
   "name": "python3"
  },
  "language_info": {
   "codemirror_mode": {
    "name": "ipython",
    "version": 3
   },
   "file_extension": ".py",
   "mimetype": "text/x-python",
   "name": "python",
   "nbconvert_exporter": "python",
   "pygments_lexer": "ipython3",
   "version": "3.9.13"
  },
  "orig_nbformat": 4,
  "vscode": {
   "interpreter": {
    "hash": "949777d72b0d2535278d3dc13498b2535136f6dfe0678499012e853ee9abcab1"
   }
  }
 },
 "nbformat": 4,
 "nbformat_minor": 2
}
