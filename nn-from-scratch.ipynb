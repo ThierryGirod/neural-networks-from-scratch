{
 "cells": [
  {
   "cell_type": "code",
   "execution_count": 57,
   "metadata": {},
   "outputs": [],
   "source": [
    "import numpy"
   ]
  },
  {
   "cell_type": "code",
   "execution_count": 58,
   "metadata": {},
   "outputs": [],
   "source": [
    "class NeuralNetwork:\n",
    "\n",
    "    # Initialise the neural network\n",
    "    def __init__(self, input_nodes, hidden_nodes, output_nodes, learning_rate):\n",
    "        self.input_nodes = input_nodes\n",
    "        self.hidden_nodes = hidden_nodes\n",
    "        self.output_nodes = output_nodes\n",
    "        self.learning_rate = learning_rate\n",
    "\n",
    "        # Init the weights - 0.5 that for minus values\n",
    "        self.weight_input_hidden = (numpy.random.rand(self.hidden_nodes, self.input_nodes) - 0.5)\n",
    "        self.weight_hidden_output = (numpy.random.rand(self.output_nodes, self.hidden_nodes) - 0.5)\n",
    "\n",
    "    # Train the network\n",
    "    def train():\n",
    "        pass\n",
    "\n",
    "    # Query the neural network\n",
    "    def query():\n",
    "        pass\n",
    "\n",
    "\n",
    "    def describe(self):\n",
    "        print(f'3 layer neural network with {self.input_nodes} input nodes / {self.hidden_nodes} hidden nodes / {self.output_nodes} output nodes and learning rate {self.learning_rate}')\n",
    "        print(f'{self.weight_input_hidden} \\n {self.weight_hidden_output}')"
   ]
  },
  {
   "cell_type": "code",
   "execution_count": 59,
   "metadata": {},
   "outputs": [
    {
     "name": "stdout",
     "output_type": "stream",
     "text": [
      "3 layer neural network with 3 input nodes / 4 hidden nodes / 2 output nodes and learning rate 0.3\n",
      "[[ 0.45537931 -0.00662479 -0.22398322]\n",
      " [-0.29955614 -0.24472533 -0.21153273]\n",
      " [ 0.3781836  -0.28204147  0.42888946]\n",
      " [-0.44754916 -0.11689778 -0.27178971]] \n",
      " [[ 0.34196819 -0.34336187 -0.27501343 -0.30359261]\n",
      " [ 0.25488301 -0.33693796  0.44284689  0.03252393]]\n"
     ]
    }
   ],
   "source": [
    "n = NeuralNetwork(3,4,2,0.3)\n",
    "n.describe()"
   ]
  }
 ],
 "metadata": {
  "kernelspec": {
   "display_name": "Python 3.9.13 64-bit",
   "language": "python",
   "name": "python3"
  },
  "language_info": {
   "codemirror_mode": {
    "name": "ipython",
    "version": 3
   },
   "file_extension": ".py",
   "mimetype": "text/x-python",
   "name": "python",
   "nbconvert_exporter": "python",
   "pygments_lexer": "ipython3",
   "version": "3.9.13"
  },
  "orig_nbformat": 4,
  "vscode": {
   "interpreter": {
    "hash": "949777d72b0d2535278d3dc13498b2535136f6dfe0678499012e853ee9abcab1"
   }
  }
 },
 "nbformat": 4,
 "nbformat_minor": 2
}
